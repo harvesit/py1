{
 "cells": [
  {
   "cell_type": "code",
   "execution_count": null,
   "metadata": {},
   "outputs": [],
   "source": []
  }
 ],
 "metadata": {
  "interpreter": {
   "hash": "bc76d03928c35be447dd221fbdd3aa8761e3e745c504d7b59fcf4dedc69b28d3"
  },
  "kernelspec": {
   "display_name": "Python 3.10.4 ('py1-GWnMtgir')",
   "language": "python",
   "name": "python3"
  },
  "language_info": {
   "name": "python",
   "version": "3.10.4"
  },
  "orig_nbformat": 4
 },
 "nbformat": 4,
 "nbformat_minor": 2
}
